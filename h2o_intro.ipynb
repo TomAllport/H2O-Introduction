{
  "nbformat": 4,
  "nbformat_minor": 0,
  "metadata": {
    "colab": {
      "name": "h2o_intro.ipynb",
      "version": "0.3.2",
      "provenance": [],
      "include_colab_link": true
    },
    "kernelspec": {
      "name": "python3",
      "display_name": "Python 3"
    },
    "accelerator": "GPU"
  },
  "cells": [
    {
      "cell_type": "markdown",
      "metadata": {
        "id": "view-in-github",
        "colab_type": "text"
      },
      "source": [
        "<a href=\"https://colab.research.google.com/github/TomAllport/H2O-Introduction/blob/master/h2o_intro.ipynb\" target=\"_parent\"><img src=\"https://colab.research.google.com/assets/colab-badge.svg\" alt=\"Open In Colab\"/></a>"
      ]
    },
    {
      "cell_type": "code",
      "metadata": {
        "id": "I7NLPlBG3Kut",
        "colab_type": "code",
        "outputId": "4c96b480-4ec8-4d54-f311-8d969b3a3ade",
        "colab": {
          "base_uri": "https://localhost:8080/",
          "height": 960
        }
      },
      "source": [
        "#!pip install h2o\n",
        "import h2o\n",
        "from h2o.automl import H2OAutoML\n",
        "h2o.init()"
      ],
      "execution_count": 0,
      "outputs": [
        {
          "output_type": "stream",
          "text": [
            "Collecting h2o\n",
            "\u001b[?25l  Downloading https://files.pythonhosted.org/packages/f2/48/e679cdab8ce9d27ff0667fdb6254e57d7b95c6b69a19561b32eb240b6b93/h2o-3.24.0.4.tar.gz (121.8MB)\n",
            "\u001b[K     |████████████████████████████████| 121.8MB 1.6MB/s \n",
            "\u001b[?25hRequirement already satisfied: requests in /usr/local/lib/python3.6/dist-packages (from h2o) (2.21.0)\n",
            "Requirement already satisfied: tabulate in /usr/local/lib/python3.6/dist-packages (from h2o) (0.8.3)\n",
            "Requirement already satisfied: future in /usr/local/lib/python3.6/dist-packages (from h2o) (0.16.0)\n",
            "Collecting colorama>=0.3.8 (from h2o)\n",
            "  Downloading https://files.pythonhosted.org/packages/4f/a6/728666f39bfff1719fc94c481890b2106837da9318031f71a8424b662e12/colorama-0.4.1-py2.py3-none-any.whl\n",
            "Requirement already satisfied: certifi>=2017.4.17 in /usr/local/lib/python3.6/dist-packages (from requests->h2o) (2019.3.9)\n",
            "Requirement already satisfied: urllib3<1.25,>=1.21.1 in /usr/local/lib/python3.6/dist-packages (from requests->h2o) (1.24.3)\n",
            "Requirement already satisfied: chardet<3.1.0,>=3.0.2 in /usr/local/lib/python3.6/dist-packages (from requests->h2o) (3.0.4)\n",
            "Requirement already satisfied: idna<2.9,>=2.5 in /usr/local/lib/python3.6/dist-packages (from requests->h2o) (2.8)\n",
            "Building wheels for collected packages: h2o\n",
            "  Building wheel for h2o (setup.py) ... \u001b[?25l\u001b[?25hdone\n",
            "  Stored in directory: /root/.cache/pip/wheels/d2/8a/98/1a1e50c8b6f8b6fd6e400a0d5cc268a8f68dbcc94d59420efc\n",
            "Successfully built h2o\n",
            "Installing collected packages: colorama, h2o\n",
            "Successfully installed colorama-0.4.1 h2o-3.24.0.4\n",
            "Checking whether there is an H2O instance running at http://localhost:54321 ..... not found.\n",
            "Attempting to start a local H2O server...\n",
            "  Java Version: openjdk version \"11.0.3\" 2019-04-16; OpenJDK Runtime Environment (build 11.0.3+7-Ubuntu-1ubuntu218.04.1); OpenJDK 64-Bit Server VM (build 11.0.3+7-Ubuntu-1ubuntu218.04.1, mixed mode, sharing)\n",
            "  Starting server from /usr/local/lib/python3.6/dist-packages/h2o/backend/bin/h2o.jar\n",
            "  Ice root: /tmp/tmp82fcabnr\n",
            "  JVM stdout: /tmp/tmp82fcabnr/h2o_unknownUser_started_from_python.out\n",
            "  JVM stderr: /tmp/tmp82fcabnr/h2o_unknownUser_started_from_python.err\n",
            "  Server is running at http://127.0.0.1:54321\n",
            "Connecting to H2O server at http://127.0.0.1:54321 ... successful.\n"
          ],
          "name": "stdout"
        },
        {
          "output_type": "display_data",
          "data": {
            "text/html": [
              "<div style=\"overflow:auto\"><table style=\"width:50%\"><tr><td>H2O cluster uptime:</td>\n",
              "<td>02 secs</td></tr>\n",
              "<tr><td>H2O cluster timezone:</td>\n",
              "<td>Etc/UTC</td></tr>\n",
              "<tr><td>H2O data parsing timezone:</td>\n",
              "<td>UTC</td></tr>\n",
              "<tr><td>H2O cluster version:</td>\n",
              "<td>3.24.0.4</td></tr>\n",
              "<tr><td>H2O cluster version age:</td>\n",
              "<td>13 days </td></tr>\n",
              "<tr><td>H2O cluster name:</td>\n",
              "<td>H2O_from_python_unknownUser_rqbuw5</td></tr>\n",
              "<tr><td>H2O cluster total nodes:</td>\n",
              "<td>1</td></tr>\n",
              "<tr><td>H2O cluster free memory:</td>\n",
              "<td>2.938 Gb</td></tr>\n",
              "<tr><td>H2O cluster total cores:</td>\n",
              "<td>2</td></tr>\n",
              "<tr><td>H2O cluster allowed cores:</td>\n",
              "<td>2</td></tr>\n",
              "<tr><td>H2O cluster status:</td>\n",
              "<td>accepting new members, healthy</td></tr>\n",
              "<tr><td>H2O connection url:</td>\n",
              "<td>http://127.0.0.1:54321</td></tr>\n",
              "<tr><td>H2O connection proxy:</td>\n",
              "<td>None</td></tr>\n",
              "<tr><td>H2O internal security:</td>\n",
              "<td>False</td></tr>\n",
              "<tr><td>H2O API Extensions:</td>\n",
              "<td>Amazon S3, XGBoost, Algos, AutoML, Core V3, Core V4</td></tr>\n",
              "<tr><td>Python version:</td>\n",
              "<td>3.6.7 final</td></tr></table></div>"
            ],
            "text/plain": [
              "--------------------------  ---------------------------------------------------\n",
              "H2O cluster uptime:         02 secs\n",
              "H2O cluster timezone:       Etc/UTC\n",
              "H2O data parsing timezone:  UTC\n",
              "H2O cluster version:        3.24.0.4\n",
              "H2O cluster version age:    13 days\n",
              "H2O cluster name:           H2O_from_python_unknownUser_rqbuw5\n",
              "H2O cluster total nodes:    1\n",
              "H2O cluster free memory:    2.938 Gb\n",
              "H2O cluster total cores:    2\n",
              "H2O cluster allowed cores:  2\n",
              "H2O cluster status:         accepting new members, healthy\n",
              "H2O connection url:         http://127.0.0.1:54321\n",
              "H2O connection proxy:\n",
              "H2O internal security:      False\n",
              "H2O API Extensions:         Amazon S3, XGBoost, Algos, AutoML, Core V3, Core V4\n",
              "Python version:             3.6.7 final\n",
              "--------------------------  ---------------------------------------------------"
            ]
          },
          "metadata": {
            "tags": []
          }
        }
      ]
    },
    {
      "cell_type": "code",
      "metadata": {
        "id": "vvk0P2Kn6EP_",
        "colab_type": "code",
        "outputId": "42c721d2-19e3-4522-f151-e0bf8d256a96",
        "colab": {
          "base_uri": "https://localhost:8080/",
          "height": 189
        }
      },
      "source": [
        "from google.colab import drive\n",
        "drive.mount('/content/gdrive')"
      ],
      "execution_count": 0,
      "outputs": [
        {
          "output_type": "stream",
          "text": [
            "Go to this URL in a browser: https://accounts.google.com/o/oauth2/auth?client_id=947318989803-6bn6qk8qdgf4n4g3pfee6491hc0brc4i.apps.googleusercontent.com&redirect_uri=urn%3Aietf%3Awg%3Aoauth%3A2.0%3Aoob&scope=email%20https%3A%2F%2Fwww.googleapis.com%2Fauth%2Fdocs.test%20https%3A%2F%2Fwww.googleapis.com%2Fauth%2Fdrive%20https%3A%2F%2Fwww.googleapis.com%2Fauth%2Fdrive.photos.readonly%20https%3A%2F%2Fwww.googleapis.com%2Fauth%2Fpeopleapi.readonly&response_type=code\n",
            "\n",
            "Enter your authorization code:\n",
            "··········\n",
            "Mounted at /content/gdrive\n"
          ],
          "name": "stdout"
        }
      ]
    },
    {
      "cell_type": "code",
      "metadata": {
        "id": "p13WSFhm5sUC",
        "colab_type": "code",
        "outputId": "e167b38f-0082-4ce8-853c-64562be01ab4",
        "colab": {
          "base_uri": "https://localhost:8080/",
          "height": 34
        }
      },
      "source": [
        "import pandas as pd\n",
        "from sklearn import preprocessing\n",
        "# Load data into H2O\n",
        "path = \"./gdrive/My Drive/Mushrooms/mushrooms.csv\"\n",
        "# df = h2o.import_file(path=path, header =1)\n",
        "\n",
        "df = pd.read_csv(path)\n",
        "labelEncoder = preprocessing.LabelEncoder()\n",
        "for col in df.columns:\n",
        "    df[col] = labelEncoder.fit_transform(df[col])\n",
        "\n",
        "df = h2o.H2OFrame(df)\n",
        "df = df.asfactor()\n",
        "# Split the data into Train/Test/Validation with Train having 70% and test and validation 15% each\n",
        "train,test,valid = df.split_frame(ratios=[.7, .15])"
      ],
      "execution_count": 0,
      "outputs": [
        {
          "output_type": "stream",
          "text": [
            "Parse progress: |█████████████████████████████████████████████████████████| 100%\n"
          ],
          "name": "stdout"
        }
      ]
    },
    {
      "cell_type": "code",
      "metadata": {
        "id": "gQV87QsLGFUq",
        "colab_type": "code",
        "outputId": "8b579c52-3db3-419c-aeb7-97589fee0782",
        "colab": {
          "base_uri": "https://localhost:8080/",
          "height": 556
        }
      },
      "source": [
        "df.describe()"
      ],
      "execution_count": 0,
      "outputs": [
        {
          "output_type": "stream",
          "text": [
            "Rows:8124\n",
            "Cols:23\n",
            "\n",
            "\n"
          ],
          "name": "stdout"
        },
        {
          "output_type": "display_data",
          "data": {
            "text/html": [
              "<table>\n",
              "<thead>\n",
              "<tr><th>       </th><th>class  </th><th>cap-shape  </th><th>cap-surface  </th><th>cap-color  </th><th>bruises  </th><th>odor  </th><th>gill-attachment  </th><th>gill-spacing  </th><th>gill-size  </th><th>gill-color  </th><th>stalk-shape  </th><th>stalk-root  </th><th>stalk-surface-above-ring  </th><th>stalk-surface-below-ring  </th><th>stalk-color-above-ring  </th><th>stalk-color-below-ring  </th><th>veil-type  </th><th>veil-color  </th><th>ring-number  </th><th>ring-type  </th><th>spore-print-color  </th><th>population  </th><th>habitat  </th></tr>\n",
              "</thead>\n",
              "<tbody>\n",
              "<tr><td>type   </td><td>enum   </td><td>enum       </td><td>enum         </td><td>enum       </td><td>enum     </td><td>enum  </td><td>enum             </td><td>enum          </td><td>enum       </td><td>enum        </td><td>enum         </td><td>enum        </td><td>enum                      </td><td>enum                      </td><td>enum                    </td><td>enum                    </td><td>enum       </td><td>enum        </td><td>enum         </td><td>enum       </td><td>enum               </td><td>enum        </td><td>enum     </td></tr>\n",
              "<tr><td>mins   </td><td>       </td><td>           </td><td>             </td><td>           </td><td>         </td><td>      </td><td>                 </td><td>              </td><td>           </td><td>            </td><td>             </td><td>            </td><td>                          </td><td>                          </td><td>                        </td><td>                        </td><td>           </td><td>            </td><td>             </td><td>           </td><td>                   </td><td>            </td><td>         </td></tr>\n",
              "<tr><td>mean   </td><td>       </td><td>           </td><td>             </td><td>           </td><td>         </td><td>      </td><td>                 </td><td>              </td><td>           </td><td>            </td><td>             </td><td>            </td><td>                          </td><td>                          </td><td>                        </td><td>                        </td><td>           </td><td>            </td><td>             </td><td>           </td><td>                   </td><td>            </td><td>         </td></tr>\n",
              "<tr><td>maxs   </td><td>       </td><td>           </td><td>             </td><td>           </td><td>         </td><td>      </td><td>                 </td><td>              </td><td>           </td><td>            </td><td>             </td><td>            </td><td>                          </td><td>                          </td><td>                        </td><td>                        </td><td>           </td><td>            </td><td>             </td><td>           </td><td>                   </td><td>            </td><td>         </td></tr>\n",
              "<tr><td>sigma  </td><td>       </td><td>           </td><td>             </td><td>           </td><td>         </td><td>      </td><td>                 </td><td>              </td><td>           </td><td>            </td><td>             </td><td>            </td><td>                          </td><td>                          </td><td>                        </td><td>                        </td><td>           </td><td>            </td><td>             </td><td>           </td><td>                   </td><td>            </td><td>         </td></tr>\n",
              "<tr><td>zeros  </td><td>       </td><td>           </td><td>             </td><td>           </td><td>         </td><td>      </td><td>                 </td><td>              </td><td>           </td><td>            </td><td>             </td><td>            </td><td>                          </td><td>                          </td><td>                        </td><td>                        </td><td>           </td><td>            </td><td>             </td><td>           </td><td>                   </td><td>            </td><td>         </td></tr>\n",
              "<tr><td>missing</td><td>0      </td><td>0          </td><td>0            </td><td>0          </td><td>0        </td><td>0     </td><td>0                </td><td>0             </td><td>0          </td><td>0           </td><td>0            </td><td>0           </td><td>0                         </td><td>0                         </td><td>0                       </td><td>0                       </td><td>0          </td><td>0           </td><td>0            </td><td>0          </td><td>0                  </td><td>0           </td><td>0        </td></tr>\n",
              "<tr><td>0      </td><td>1      </td><td>5          </td><td>2            </td><td>4          </td><td>1        </td><td>6     </td><td>1                </td><td>0             </td><td>1          </td><td>4           </td><td>0            </td><td>3           </td><td>2                         </td><td>2                         </td><td>7                       </td><td>7                       </td><td>0          </td><td>2           </td><td>1            </td><td>4          </td><td>2                  </td><td>3           </td><td>5        </td></tr>\n",
              "<tr><td>1      </td><td>0      </td><td>5          </td><td>2            </td><td>9          </td><td>1        </td><td>0     </td><td>1                </td><td>0             </td><td>0          </td><td>4           </td><td>0            </td><td>2           </td><td>2                         </td><td>2                         </td><td>7                       </td><td>7                       </td><td>0          </td><td>2           </td><td>1            </td><td>4          </td><td>3                  </td><td>2           </td><td>1        </td></tr>\n",
              "<tr><td>2      </td><td>0      </td><td>0          </td><td>2            </td><td>8          </td><td>1        </td><td>3     </td><td>1                </td><td>0             </td><td>0          </td><td>5           </td><td>0            </td><td>2           </td><td>2                         </td><td>2                         </td><td>7                       </td><td>7                       </td><td>0          </td><td>2           </td><td>1            </td><td>4          </td><td>3                  </td><td>2           </td><td>3        </td></tr>\n",
              "<tr><td>3      </td><td>1      </td><td>5          </td><td>3            </td><td>8          </td><td>1        </td><td>6     </td><td>1                </td><td>0             </td><td>1          </td><td>5           </td><td>0            </td><td>3           </td><td>2                         </td><td>2                         </td><td>7                       </td><td>7                       </td><td>0          </td><td>2           </td><td>1            </td><td>4          </td><td>2                  </td><td>3           </td><td>5        </td></tr>\n",
              "<tr><td>4      </td><td>0      </td><td>5          </td><td>2            </td><td>3          </td><td>0        </td><td>5     </td><td>1                </td><td>1             </td><td>0          </td><td>4           </td><td>1            </td><td>3           </td><td>2                         </td><td>2                         </td><td>7                       </td><td>7                       </td><td>0          </td><td>2           </td><td>1            </td><td>0          </td><td>3                  </td><td>0           </td><td>1        </td></tr>\n",
              "<tr><td>5      </td><td>0      </td><td>5          </td><td>3            </td><td>9          </td><td>1        </td><td>0     </td><td>1                </td><td>0             </td><td>0          </td><td>5           </td><td>0            </td><td>2           </td><td>2                         </td><td>2                         </td><td>7                       </td><td>7                       </td><td>0          </td><td>2           </td><td>1            </td><td>4          </td><td>2                  </td><td>2           </td><td>1        </td></tr>\n",
              "<tr><td>6      </td><td>0      </td><td>0          </td><td>2            </td><td>8          </td><td>1        </td><td>0     </td><td>1                </td><td>0             </td><td>0          </td><td>2           </td><td>0            </td><td>2           </td><td>2                         </td><td>2                         </td><td>7                       </td><td>7                       </td><td>0          </td><td>2           </td><td>1            </td><td>4          </td><td>2                  </td><td>2           </td><td>3        </td></tr>\n",
              "<tr><td>7      </td><td>0      </td><td>0          </td><td>3            </td><td>8          </td><td>1        </td><td>3     </td><td>1                </td><td>0             </td><td>0          </td><td>5           </td><td>0            </td><td>2           </td><td>2                         </td><td>2                         </td><td>7                       </td><td>7                       </td><td>0          </td><td>2           </td><td>1            </td><td>4          </td><td>3                  </td><td>3           </td><td>3        </td></tr>\n",
              "<tr><td>8      </td><td>1      </td><td>5          </td><td>3            </td><td>8          </td><td>1        </td><td>6     </td><td>1                </td><td>0             </td><td>1          </td><td>7           </td><td>0            </td><td>3           </td><td>2                         </td><td>2                         </td><td>7                       </td><td>7                       </td><td>0          </td><td>2           </td><td>1            </td><td>4          </td><td>2                  </td><td>4           </td><td>1        </td></tr>\n",
              "<tr><td>9      </td><td>0      </td><td>0          </td><td>2            </td><td>9          </td><td>1        </td><td>0     </td><td>1                </td><td>0             </td><td>0          </td><td>2           </td><td>0            </td><td>2           </td><td>2                         </td><td>2                         </td><td>7                       </td><td>7                       </td><td>0          </td><td>2           </td><td>1            </td><td>4          </td><td>2                  </td><td>3           </td><td>3        </td></tr>\n",
              "</tbody>\n",
              "</table>"
            ]
          },
          "metadata": {
            "tags": []
          }
        }
      ]
    },
    {
      "cell_type": "code",
      "metadata": {
        "id": "UL-Myfu-GCU9",
        "colab_type": "code",
        "outputId": "765ac9e0-d891-4de4-f5ec-2f04a6793adc",
        "colab": {
          "base_uri": "https://localhost:8080/",
          "height": 556
        }
      },
      "source": [
        "train.describe()"
      ],
      "execution_count": 0,
      "outputs": [
        {
          "output_type": "stream",
          "text": [
            "Rows:5661\n",
            "Cols:23\n",
            "\n",
            "\n"
          ],
          "name": "stdout"
        },
        {
          "output_type": "display_data",
          "data": {
            "text/html": [
              "<table>\n",
              "<thead>\n",
              "<tr><th>       </th><th>class  </th><th>cap-shape  </th><th>cap-surface  </th><th>cap-color  </th><th>bruises  </th><th>odor  </th><th>gill-attachment  </th><th>gill-spacing  </th><th>gill-size  </th><th>gill-color  </th><th>stalk-shape  </th><th>stalk-root  </th><th>stalk-surface-above-ring  </th><th>stalk-surface-below-ring  </th><th>stalk-color-above-ring  </th><th>stalk-color-below-ring  </th><th>veil-type  </th><th>veil-color  </th><th>ring-number  </th><th>ring-type  </th><th>spore-print-color  </th><th>population  </th><th>habitat  </th></tr>\n",
              "</thead>\n",
              "<tbody>\n",
              "<tr><td>type   </td><td>enum   </td><td>enum       </td><td>enum         </td><td>enum       </td><td>enum     </td><td>enum  </td><td>enum             </td><td>enum          </td><td>enum       </td><td>enum        </td><td>enum         </td><td>enum        </td><td>enum                      </td><td>enum                      </td><td>enum                    </td><td>enum                    </td><td>enum       </td><td>enum        </td><td>enum         </td><td>enum       </td><td>enum               </td><td>enum        </td><td>enum     </td></tr>\n",
              "<tr><td>mins   </td><td>       </td><td>           </td><td>             </td><td>           </td><td>         </td><td>      </td><td>                 </td><td>              </td><td>           </td><td>            </td><td>             </td><td>            </td><td>                          </td><td>                          </td><td>                        </td><td>                        </td><td>           </td><td>            </td><td>             </td><td>           </td><td>                   </td><td>            </td><td>         </td></tr>\n",
              "<tr><td>mean   </td><td>       </td><td>           </td><td>             </td><td>           </td><td>         </td><td>      </td><td>                 </td><td>              </td><td>           </td><td>            </td><td>             </td><td>            </td><td>                          </td><td>                          </td><td>                        </td><td>                        </td><td>           </td><td>            </td><td>             </td><td>           </td><td>                   </td><td>            </td><td>         </td></tr>\n",
              "<tr><td>maxs   </td><td>       </td><td>           </td><td>             </td><td>           </td><td>         </td><td>      </td><td>                 </td><td>              </td><td>           </td><td>            </td><td>             </td><td>            </td><td>                          </td><td>                          </td><td>                        </td><td>                        </td><td>           </td><td>            </td><td>             </td><td>           </td><td>                   </td><td>            </td><td>         </td></tr>\n",
              "<tr><td>sigma  </td><td>       </td><td>           </td><td>             </td><td>           </td><td>         </td><td>      </td><td>                 </td><td>              </td><td>           </td><td>            </td><td>             </td><td>            </td><td>                          </td><td>                          </td><td>                        </td><td>                        </td><td>           </td><td>            </td><td>             </td><td>           </td><td>                   </td><td>            </td><td>         </td></tr>\n",
              "<tr><td>zeros  </td><td>       </td><td>           </td><td>             </td><td>           </td><td>         </td><td>      </td><td>                 </td><td>              </td><td>           </td><td>            </td><td>             </td><td>            </td><td>                          </td><td>                          </td><td>                        </td><td>                        </td><td>           </td><td>            </td><td>             </td><td>           </td><td>                   </td><td>            </td><td>         </td></tr>\n",
              "<tr><td>missing</td><td>0      </td><td>0          </td><td>0            </td><td>0          </td><td>0        </td><td>0     </td><td>0                </td><td>0             </td><td>0          </td><td>0           </td><td>0            </td><td>0           </td><td>0                         </td><td>0                         </td><td>0                       </td><td>0                       </td><td>0          </td><td>0           </td><td>0            </td><td>0          </td><td>0                  </td><td>0           </td><td>0        </td></tr>\n",
              "<tr><td>0      </td><td>0      </td><td>5          </td><td>2            </td><td>9          </td><td>1        </td><td>0     </td><td>1                </td><td>0             </td><td>0          </td><td>4           </td><td>0            </td><td>2           </td><td>2                         </td><td>2                         </td><td>7                       </td><td>7                       </td><td>0          </td><td>2           </td><td>1            </td><td>4          </td><td>3                  </td><td>2           </td><td>1        </td></tr>\n",
              "<tr><td>1      </td><td>0      </td><td>0          </td><td>2            </td><td>8          </td><td>1        </td><td>3     </td><td>1                </td><td>0             </td><td>0          </td><td>5           </td><td>0            </td><td>2           </td><td>2                         </td><td>2                         </td><td>7                       </td><td>7                       </td><td>0          </td><td>2           </td><td>1            </td><td>4          </td><td>3                  </td><td>2           </td><td>3        </td></tr>\n",
              "<tr><td>2      </td><td>0      </td><td>5          </td><td>2            </td><td>3          </td><td>0        </td><td>5     </td><td>1                </td><td>1             </td><td>0          </td><td>4           </td><td>1            </td><td>3           </td><td>2                         </td><td>2                         </td><td>7                       </td><td>7                       </td><td>0          </td><td>2           </td><td>1            </td><td>0          </td><td>3                  </td><td>0           </td><td>1        </td></tr>\n",
              "<tr><td>3      </td><td>0      </td><td>0          </td><td>2            </td><td>9          </td><td>1        </td><td>0     </td><td>1                </td><td>0             </td><td>0          </td><td>2           </td><td>0            </td><td>2           </td><td>2                         </td><td>2                         </td><td>7                       </td><td>7                       </td><td>0          </td><td>2           </td><td>1            </td><td>4          </td><td>2                  </td><td>3           </td><td>3        </td></tr>\n",
              "<tr><td>4      </td><td>0      </td><td>5          </td><td>3            </td><td>9          </td><td>1        </td><td>0     </td><td>1                </td><td>0             </td><td>0          </td><td>5           </td><td>0            </td><td>2           </td><td>2                         </td><td>2                         </td><td>7                       </td><td>7                       </td><td>0          </td><td>2           </td><td>1            </td><td>4          </td><td>2                  </td><td>3           </td><td>3        </td></tr>\n",
              "<tr><td>5      </td><td>0      </td><td>0          </td><td>2            </td><td>9          </td><td>1        </td><td>0     </td><td>1                </td><td>0             </td><td>0          </td><td>10          </td><td>0            </td><td>2           </td><td>2                         </td><td>2                         </td><td>7                       </td><td>7                       </td><td>0          </td><td>2           </td><td>1            </td><td>4          </td><td>3                  </td><td>3           </td><td>1        </td></tr>\n",
              "<tr><td>6      </td><td>0      </td><td>5          </td><td>0            </td><td>4          </td><td>0        </td><td>5     </td><td>1                </td><td>1             </td><td>0          </td><td>5           </td><td>1            </td><td>3           </td><td>2                         </td><td>0                         </td><td>7                       </td><td>7                       </td><td>0          </td><td>2           </td><td>1            </td><td>0          </td><td>2                  </td><td>0           </td><td>1        </td></tr>\n",
              "<tr><td>7      </td><td>0      </td><td>4          </td><td>0            </td><td>3          </td><td>0        </td><td>5     </td><td>1                </td><td>0             </td><td>1          </td><td>4           </td><td>0            </td><td>3           </td><td>2                         </td><td>2                         </td><td>7                       </td><td>7                       </td><td>0          </td><td>2           </td><td>1            </td><td>4          </td><td>3                  </td><td>5           </td><td>5        </td></tr>\n",
              "<tr><td>8      </td><td>0      </td><td>2          </td><td>0            </td><td>8          </td><td>0        </td><td>5     </td><td>1                </td><td>1             </td><td>0          </td><td>4           </td><td>1            </td><td>3           </td><td>2                         </td><td>2                         </td><td>7                       </td><td>7                       </td><td>0          </td><td>2           </td><td>1            </td><td>0          </td><td>3                  </td><td>0           </td><td>1        </td></tr>\n",
              "<tr><td>9      </td><td>1      </td><td>5          </td><td>2            </td><td>4          </td><td>1        </td><td>6     </td><td>1                </td><td>0             </td><td>1          </td><td>5           </td><td>0            </td><td>3           </td><td>2                         </td><td>2                         </td><td>7                       </td><td>7                       </td><td>0          </td><td>2           </td><td>1            </td><td>4          </td><td>2                  </td><td>3           </td><td>1        </td></tr>\n",
              "</tbody>\n",
              "</table>"
            ]
          },
          "metadata": {
            "tags": []
          }
        }
      ]
    },
    {
      "cell_type": "code",
      "metadata": {
        "id": "Vgh8JBHG6_qS",
        "colab_type": "code",
        "outputId": "44cbf88e-557e-4f40-c133-07adc7243f18",
        "colab": {
          "base_uri": "https://localhost:8080/",
          "height": 391
        }
      },
      "source": [
        "y = \"class\"\n",
        "x_train = train.columns\n",
        "x_train.remove(y)\n",
        "x_train"
      ],
      "execution_count": 0,
      "outputs": [
        {
          "output_type": "execute_result",
          "data": {
            "text/plain": [
              "['cap-shape',\n",
              " 'cap-surface',\n",
              " 'cap-color',\n",
              " 'bruises',\n",
              " 'odor',\n",
              " 'gill-attachment',\n",
              " 'gill-spacing',\n",
              " 'gill-size',\n",
              " 'gill-color',\n",
              " 'stalk-shape',\n",
              " 'stalk-root',\n",
              " 'stalk-surface-above-ring',\n",
              " 'stalk-surface-below-ring',\n",
              " 'stalk-color-above-ring',\n",
              " 'stalk-color-below-ring',\n",
              " 'veil-type',\n",
              " 'veil-color',\n",
              " 'ring-number',\n",
              " 'ring-type',\n",
              " 'spore-print-color',\n",
              " 'population',\n",
              " 'habitat']"
            ]
          },
          "metadata": {
            "tags": []
          },
          "execution_count": 153
        }
      ]
    },
    {
      "cell_type": "code",
      "metadata": {
        "id": "y23XFMKhGmt8",
        "colab_type": "code",
        "outputId": "0221f016-d9ce-45fd-e3e1-2b39a19149f3",
        "colab": {
          "base_uri": "https://localhost:8080/",
          "height": 34
        }
      },
      "source": [
        "aml = H2OAutoML(max_runtime_secs=600, seed = 1)\n",
        "aml.train(x = x_train, y = y, training_frame = train)"
      ],
      "execution_count": 0,
      "outputs": [
        {
          "output_type": "stream",
          "text": [
            "AutoML progress: |████████████████████████████████████████████████████████| 100%\n"
          ],
          "name": "stdout"
        }
      ]
    },
    {
      "cell_type": "code",
      "metadata": {
        "id": "mfI1YhtR7pF6",
        "colab_type": "code",
        "outputId": "8491237b-9363-40c0-d6d5-309f5b71de44",
        "colab": {
          "base_uri": "https://localhost:8080/",
          "height": 250
        }
      },
      "source": [
        "lb = aml.leaderboard\n",
        "lb.head()"
      ],
      "execution_count": 0,
      "outputs": [
        {
          "output_type": "display_data",
          "data": {
            "text/html": [
              "<table>\n",
              "<thead>\n",
              "<tr><th>model_id                                          </th><th style=\"text-align: right;\">  auc</th><th style=\"text-align: right;\">    logloss</th><th style=\"text-align: right;\">  mean_per_class_error</th><th style=\"text-align: right;\">       rmse</th><th style=\"text-align: right;\">        mse</th></tr>\n",
              "</thead>\n",
              "<tbody>\n",
              "<tr><td>GBM_grid_1_AutoML_20190611_150204_model_3         </td><td style=\"text-align: right;\">    1</td><td style=\"text-align: right;\">0.00151987 </td><td style=\"text-align: right;\">                     0</td><td style=\"text-align: right;\">0.00978945 </td><td style=\"text-align: right;\">9.58333e-05</td></tr>\n",
              "<tr><td>GBM_3_AutoML_20190611_153332                      </td><td style=\"text-align: right;\">    1</td><td style=\"text-align: right;\">5.07116e-12</td><td style=\"text-align: right;\">                     0</td><td style=\"text-align: right;\">3.03503e-10</td><td style=\"text-align: right;\">9.2114e-20 </td></tr>\n",
              "<tr><td>GBM_2_AutoML_20190611_153332                      </td><td style=\"text-align: right;\">    1</td><td style=\"text-align: right;\">7.28875e-12</td><td style=\"text-align: right;\">                     0</td><td style=\"text-align: right;\">4.36864e-10</td><td style=\"text-align: right;\">1.9085e-19 </td></tr>\n",
              "<tr><td>GLM_grid_1_AutoML_20190611_150204_model_1         </td><td style=\"text-align: right;\">    1</td><td style=\"text-align: right;\">0.00253685 </td><td style=\"text-align: right;\">                     0</td><td style=\"text-align: right;\">0.0164994  </td><td style=\"text-align: right;\">0.000272229</td></tr>\n",
              "<tr><td>DeepLearning_grid_1_AutoML_20190611_153332_model_1</td><td style=\"text-align: right;\">    1</td><td style=\"text-align: right;\">0.000501174</td><td style=\"text-align: right;\">                     0</td><td style=\"text-align: right;\">0.011126   </td><td style=\"text-align: right;\">0.000123788</td></tr>\n",
              "<tr><td>DeepLearning_grid_1_AutoML_20190611_150204_model_1</td><td style=\"text-align: right;\">    1</td><td style=\"text-align: right;\">7.86037e-05</td><td style=\"text-align: right;\">                     0</td><td style=\"text-align: right;\">0.00252565 </td><td style=\"text-align: right;\">6.3789e-06 </td></tr>\n",
              "<tr><td>GBM_grid_1_AutoML_20190611_153332_model_1         </td><td style=\"text-align: right;\">    1</td><td style=\"text-align: right;\">0.0100281  </td><td style=\"text-align: right;\">                     0</td><td style=\"text-align: right;\">0.0117962  </td><td style=\"text-align: right;\">0.00013915 </td></tr>\n",
              "<tr><td>DeepLearning_grid_1_AutoML_20190611_153332_model_3</td><td style=\"text-align: right;\">    1</td><td style=\"text-align: right;\">0.00480379 </td><td style=\"text-align: right;\">                     0</td><td style=\"text-align: right;\">0.0389828  </td><td style=\"text-align: right;\">0.00151966 </td></tr>\n",
              "<tr><td>GBM_1_AutoML_20190611_145434                      </td><td style=\"text-align: right;\">    1</td><td style=\"text-align: right;\">0.00166966 </td><td style=\"text-align: right;\">                     0</td><td style=\"text-align: right;\">0.018618   </td><td style=\"text-align: right;\">0.00034663 </td></tr>\n",
              "<tr><td>GBM_1_AutoML_20190611_150204                      </td><td style=\"text-align: right;\">    1</td><td style=\"text-align: right;\">0.00166966 </td><td style=\"text-align: right;\">                     0</td><td style=\"text-align: right;\">0.018618   </td><td style=\"text-align: right;\">0.00034663 </td></tr>\n",
              "</tbody>\n",
              "</table>"
            ]
          },
          "metadata": {
            "tags": []
          }
        },
        {
          "output_type": "execute_result",
          "data": {
            "text/plain": [
              ""
            ]
          },
          "metadata": {
            "tags": []
          },
          "execution_count": 165
        }
      ]
    },
    {
      "cell_type": "code",
      "metadata": {
        "id": "AGlVgwSYJJOQ",
        "colab_type": "code",
        "outputId": "ea9c4399-ee47-41f1-adaa-f6bd32c6ca81",
        "colab": {
          "base_uri": "https://localhost:8080/",
          "height": 119
        }
      },
      "source": [
        "import pandas as pd\n",
        "import numpy as np\n",
        "label = test[\"class\"]\n",
        "preds = aml.predict(test)\n",
        "preds = preds.as_data_frame().iloc[:,0]\n",
        "label = label.as_data_frame().iloc[:,0]\n",
        "result = preds == label\n",
        "\n",
        "\n",
        "true_negative = [0]*preds.shape[0]\n",
        "false_positve = [0]*preds.shape[0]\n",
        "false_negative = [0]*preds.shape[0]\n",
        "true_positive = [0]*preds.shape[0]\n",
        "for i in range(preds.shape[0]):\n",
        "  if preds[i] == 0 and label[i] == 0:\n",
        "    true_negative[i] = 1\n",
        "  elif preds[i] == 1 and label[i] == 0:\n",
        "    false_positve[i] = 1\n",
        "  elif preds[i] == 0 and label[i] == 1:\n",
        "    false_negative[i] = 1\n",
        "  elif preds[i] == 1 and label[i] == 1:\n",
        "    true_positive[i] = 1\n",
        "\n",
        "cfm = np.array([[sum(true_negative),sum(false_positve)],\n",
        "       [sum(false_negative),sum(true_positive)]])\n",
        "print(\"Confusion Matrix:\\n\",cfm)\n",
        "precision = sum(true_positive)/(sum(true_positive)+sum(false_positve))\n",
        "recall = sum(true_positive)/(sum(true_positive)+sum(false_negative))\n",
        "F1 = 2*precision*recall/(precision+recall)\n",
        "\n",
        "print(\"Accuracy:\",\"{0:.2f}\".format(sum(result/len(result))))\n",
        "print(\"F1 Score:\",\"{0:.2f}\".format(F1))\n",
        "             "
      ],
      "execution_count": 0,
      "outputs": [
        {
          "output_type": "stream",
          "text": [
            "gbm prediction progress: |████████████████████████████████████████████████| 100%\n",
            "Confusion Matrix:\n",
            " [[609   0]\n",
            " [  0 602]]\n",
            "Accuracy: 1.00\n",
            "F1 Score: 1.00\n"
          ],
          "name": "stdout"
        }
      ]
    }
  ]
}